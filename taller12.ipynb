{
 "cells": [
  {
   "cell_type": "markdown",
   "metadata": {},
   "source": [
    "## Danilo Plazas I."
   ]
  },
  {
   "cell_type": "markdown",
   "metadata": {},
   "source": [
    "<img src='https://encrypted-tbn0.gstatic.com/images?q=tbn%3AANd9GcQ-VfNtOyJbsaxu43Kztf_cv1mgBG6ZIQZEVw&usqp=CAU'>\n",
    "\n",
    "# Procesamiento de Lenguaje Natural\n",
    "\n",
    "## Taller #12: Análisis de sentimiento\n",
    "`Fecha de entrega: Mayo 27, 2021 (Antes del inicio de la próxima clase).`\n",
    "\n",
    "`Modo de entrega: Subir link de GitHub al aula virtual.`"
   ]
  },
  {
   "cell_type": "markdown",
   "metadata": {},
   "source": [
    "###  `[25 pts]` Punto 1: Hacer análisis de sentimiento de los datos del anterior taller\n",
    "- Columna con el puntaje numérico del sentimiento\n",
    "- Pueden usar cualquiera de las librerias vistas en clase"
   ]
  },
  {
   "cell_type": "markdown",
   "metadata": {},
   "source": [
    "**Basado en los datos del taller anterior, para mi caso tweets de el club de fútbol River Plate, se exporto a un archivo csv la data correspondiente a los tweets extraidos, con base en eso se cargo esa data en el actual taller**"
   ]
  },
  {
   "cell_type": "code",
   "execution_count": 1,
   "metadata": {},
   "outputs": [],
   "source": [
    "import pandas as pd\n",
    "from vaderSentiment.vaderSentiment import SentimentIntensityAnalyzer\n",
    "\n",
    "vader = SentimentIntensityAnalyzer()"
   ]
  },
  {
   "cell_type": "code",
   "execution_count": 4,
   "metadata": {},
   "outputs": [
    {
     "data": {
      "text/html": [
       "<div>\n",
       "<style scoped>\n",
       "    .dataframe tbody tr th:only-of-type {\n",
       "        vertical-align: middle;\n",
       "    }\n",
       "\n",
       "    .dataframe tbody tr th {\n",
       "        vertical-align: top;\n",
       "    }\n",
       "\n",
       "    .dataframe thead th {\n",
       "        text-align: right;\n",
       "    }\n",
       "</style>\n",
       "<table border=\"1\" class=\"dataframe\">\n",
       "  <thead>\n",
       "    <tr style=\"text-align: right;\">\n",
       "      <th></th>\n",
       "      <th>tweets</th>\n",
       "      <th>date</th>\n",
       "      <th>user_location</th>\n",
       "      <th>id</th>\n",
       "      <th>link</th>\n",
       "      <th>emojis</th>\n",
       "    </tr>\n",
       "  </thead>\n",
       "  <tbody>\n",
       "    <tr>\n",
       "      <th>0</th>\n",
       "      <td>@SC_ESPN Olímpia es un equipo grande del conti...</td>\n",
       "      <td>2021-05-27 00:30:52</td>\n",
       "      <td>Colombia</td>\n",
       "      <td>1397711868769312768</td>\n",
       "      <td>https://twitter.com/i/web/stuatus/139771186876...</td>\n",
       "      <td>[]</td>\n",
       "    </tr>\n",
       "    <tr>\n",
       "      <th>1</th>\n",
       "      <td>Santa Fe 1 vs 4 River Plate aquel 20 noviembre...</td>\n",
       "      <td>2021-05-27 00:09:15</td>\n",
       "      <td>Bogotá, D.C., Colombia</td>\n",
       "      <td>1397706430501822468</td>\n",
       "      <td>https://twitter.com/i/web/stuatus/139770643050...</td>\n",
       "      <td>[]</td>\n",
       "    </tr>\n",
       "    <tr>\n",
       "      <th>2</th>\n",
       "      <td>Aquel 17 Homenaje sede MILLONARIOS a Jugadores...</td>\n",
       "      <td>2021-05-27 00:09:13</td>\n",
       "      <td>Bogotá, D.C., Colombia</td>\n",
       "      <td>1397706422113255427</td>\n",
       "      <td>https://twitter.com/i/web/stuatus/139770642211...</td>\n",
       "      <td>[]</td>\n",
       "    </tr>\n",
       "    <tr>\n",
       "      <th>3</th>\n",
       "      <td>Aquel 17 Vino de Honor y 19, 20 noviembre 1952...</td>\n",
       "      <td>2021-05-27 00:09:11</td>\n",
       "      <td>Bogotá, D.C., Colombia</td>\n",
       "      <td>1397706413623939076</td>\n",
       "      <td>https://twitter.com/i/web/stuatus/139770641362...</td>\n",
       "      <td>[]</td>\n",
       "    </tr>\n",
       "    <tr>\n",
       "      <th>4</th>\n",
       "      <td>@marca @realmadrid Deberian pensar en Marcelo ...</td>\n",
       "      <td>2021-05-27 00:03:41</td>\n",
       "      <td>Bogotá D.C.</td>\n",
       "      <td>1397705028778004483</td>\n",
       "      <td>https://twitter.com/i/web/stuatus/139770502877...</td>\n",
       "      <td>[]</td>\n",
       "    </tr>\n",
       "  </tbody>\n",
       "</table>\n",
       "</div>"
      ],
      "text/plain": [
       "                                              tweets                 date  \\\n",
       "0  @SC_ESPN Olímpia es un equipo grande del conti...  2021-05-27 00:30:52   \n",
       "1  Santa Fe 1 vs 4 River Plate aquel 20 noviembre...  2021-05-27 00:09:15   \n",
       "2  Aquel 17 Homenaje sede MILLONARIOS a Jugadores...  2021-05-27 00:09:13   \n",
       "3  Aquel 17 Vino de Honor y 19, 20 noviembre 1952...  2021-05-27 00:09:11   \n",
       "4  @marca @realmadrid Deberian pensar en Marcelo ...  2021-05-27 00:03:41   \n",
       "\n",
       "            user_location                   id  \\\n",
       "0                Colombia  1397711868769312768   \n",
       "1  Bogotá, D.C., Colombia  1397706430501822468   \n",
       "2  Bogotá, D.C., Colombia  1397706422113255427   \n",
       "3  Bogotá, D.C., Colombia  1397706413623939076   \n",
       "4           Bogotá D.C.    1397705028778004483   \n",
       "\n",
       "                                                link emojis  \n",
       "0  https://twitter.com/i/web/stuatus/139771186876...     []  \n",
       "1  https://twitter.com/i/web/stuatus/139770643050...     []  \n",
       "2  https://twitter.com/i/web/stuatus/139770642211...     []  \n",
       "3  https://twitter.com/i/web/stuatus/139770641362...     []  \n",
       "4  https://twitter.com/i/web/stuatus/139770502877...     []  "
      ]
     },
     "execution_count": 4,
     "metadata": {},
     "output_type": "execute_result"
    }
   ],
   "source": [
    "data = pd.read_csv(\"C:/Users/Danilo/Documents/KonradLorenz/NLP/Taller12/Data_Taller11.csv\")\n",
    "data.head()"
   ]
  },
  {
   "cell_type": "code",
   "execution_count": 7,
   "metadata": {},
   "outputs": [],
   "source": [
    "pd.set_option('display.max_colwidth', None)\n",
    "data['sent_vader'] = data['tweets'].apply(lambda val: vader.polarity_scores(val)['compound'])\n",
    "df = data[['tweets', 'sent_vader']]"
   ]
  },
  {
   "cell_type": "code",
   "execution_count": 9,
   "metadata": {},
   "outputs": [
    {
     "data": {
      "text/html": [
       "<div>\n",
       "<style scoped>\n",
       "    .dataframe tbody tr th:only-of-type {\n",
       "        vertical-align: middle;\n",
       "    }\n",
       "\n",
       "    .dataframe tbody tr th {\n",
       "        vertical-align: top;\n",
       "    }\n",
       "\n",
       "    .dataframe thead th {\n",
       "        text-align: right;\n",
       "    }\n",
       "</style>\n",
       "<table border=\"1\" class=\"dataframe\">\n",
       "  <thead>\n",
       "    <tr style=\"text-align: right;\">\n",
       "      <th></th>\n",
       "      <th>tweets</th>\n",
       "      <th>sent_vader</th>\n",
       "    </tr>\n",
       "  </thead>\n",
       "  <tbody>\n",
       "    <tr>\n",
       "      <th>0</th>\n",
       "      <td>@SC_ESPN Olímpia es un equipo grande del continente, los niños sólo saben hablar de River y Boca pero no del gigante paraguayo que supo ser campeón del mundo</td>\n",
       "      <td>-0.2960</td>\n",
       "    </tr>\n",
       "    <tr>\n",
       "      <th>1</th>\n",
       "      <td>Santa Fe 1 vs 4 River Plate aquel 20 noviembre 1952 @diosesazul1946 @cmoralesgarzon @DonJediondo @PipeZarruk https://t.co/T14Wb12Ooc</td>\n",
       "      <td>0.0000</td>\n",
       "    </tr>\n",
       "    <tr>\n",
       "      <th>2</th>\n",
       "      <td>Aquel 17 Homenaje sede MILLONARIOS a Jugadores Juvenil River Plate y 20 Noviembre 1952  Santa Fe vs River Plate. @diosesazul1946 @DonJediondo @cmoralesgarzon https://t.co/BISa6LmJfk</td>\n",
       "      <td>0.0000</td>\n",
       "    </tr>\n",
       "    <tr>\n",
       "      <th>3</th>\n",
       "      <td>Aquel 17 Vino de Honor y 19, 20 noviembre 1952 Santa Fe vs River Plate. @diosesazul1946 @PipeZarruk @colombia_hist @DonJediondo @RiverPlate @cmoralesgarzon https://t.co/rMP9c3u2LE</td>\n",
       "      <td>0.4939</td>\n",
       "    </tr>\n",
       "    <tr>\n",
       "      <th>4</th>\n",
       "      <td>@marca @realmadrid Deberian pensar en Marcelo Gallardo actual técnico de River Plate de Argentina.</td>\n",
       "      <td>0.0000</td>\n",
       "    </tr>\n",
       "    <tr>\n",
       "      <th>...</th>\n",
       "      <td>...</td>\n",
       "      <td>...</td>\n",
       "    </tr>\n",
       "    <tr>\n",
       "      <th>95</th>\n",
       "      <td>@Salas91Adrian @D_Bernoulli_ Igual  no les Dimos el gusto pero los hinchas del junior son muy ardidos. Ya q santa fe no es la mosa de River</td>\n",
       "      <td>-0.5267</td>\n",
       "    </tr>\n",
       "    <tr>\n",
       "      <th>96</th>\n",
       "      <td>@AyepesM @_elpivi @SantaFe La misma que tiene Boca, River, Independiente, Sao Paulo, Internacional, sigo?</td>\n",
       "      <td>0.0000</td>\n",
       "    </tr>\n",
       "    <tr>\n",
       "      <th>97</th>\n",
       "      <td>Entonces el único Barranquillero que amaneció feliz con la eliminación de Junior y el paso de River a octavos es Braper.</td>\n",
       "      <td>0.0000</td>\n",
       "    </tr>\n",
       "    <tr>\n",
       "      <th>98</th>\n",
       "      <td>\"Santa Fe dio la mano a River de Argentina y no a Junior de Colombia... tengo una tristeza ni la hi…\"  https://t.co/oWiggOPWF8</td>\n",
       "      <td>-0.2960</td>\n",
       "    </tr>\n",
       "    <tr>\n",
       "      <th>99</th>\n",
       "      <td>@byAngelicaC El fútbol casi siempre respeta a los buenos equipos y castiga a los mediocres. River jugó los últimos 2 partidos con demasiados problemas, y los equipos colombianos no aprovecharon.</td>\n",
       "      <td>-0.2960</td>\n",
       "    </tr>\n",
       "  </tbody>\n",
       "</table>\n",
       "<p>100 rows × 2 columns</p>\n",
       "</div>"
      ],
      "text/plain": [
       "                                                                                                                                                                                                tweets  \\\n",
       "0                                        @SC_ESPN Olímpia es un equipo grande del continente, los niños sólo saben hablar de River y Boca pero no del gigante paraguayo que supo ser campeón del mundo   \n",
       "1                                                                 Santa Fe 1 vs 4 River Plate aquel 20 noviembre 1952 @diosesazul1946 @cmoralesgarzon @DonJediondo @PipeZarruk https://t.co/T14Wb12Ooc   \n",
       "2                Aquel 17 Homenaje sede MILLONARIOS a Jugadores Juvenil River Plate y 20 Noviembre 1952  Santa Fe vs River Plate. @diosesazul1946 @DonJediondo @cmoralesgarzon https://t.co/BISa6LmJfk   \n",
       "3                  Aquel 17 Vino de Honor y 19, 20 noviembre 1952 Santa Fe vs River Plate. @diosesazul1946 @PipeZarruk @colombia_hist @DonJediondo @RiverPlate @cmoralesgarzon https://t.co/rMP9c3u2LE   \n",
       "4                                                                                                   @marca @realmadrid Deberian pensar en Marcelo Gallardo actual técnico de River Plate de Argentina.   \n",
       "..                                                                                                                                                                                                 ...   \n",
       "95                                                         @Salas91Adrian @D_Bernoulli_ Igual  no les Dimos el gusto pero los hinchas del junior son muy ardidos. Ya q santa fe no es la mosa de River   \n",
       "96                                                                                           @AyepesM @_elpivi @SantaFe La misma que tiene Boca, River, Independiente, Sao Paulo, Internacional, sigo?   \n",
       "97                                                                            Entonces el único Barranquillero que amaneció feliz con la eliminación de Junior y el paso de River a octavos es Braper.   \n",
       "98                                                                      \"Santa Fe dio la mano a River de Argentina y no a Junior de Colombia... tengo una tristeza ni la hi…\"  https://t.co/oWiggOPWF8   \n",
       "99  @byAngelicaC El fútbol casi siempre respeta a los buenos equipos y castiga a los mediocres. River jugó los últimos 2 partidos con demasiados problemas, y los equipos colombianos no aprovecharon.   \n",
       "\n",
       "    sent_vader  \n",
       "0      -0.2960  \n",
       "1       0.0000  \n",
       "2       0.0000  \n",
       "3       0.4939  \n",
       "4       0.0000  \n",
       "..         ...  \n",
       "95     -0.5267  \n",
       "96      0.0000  \n",
       "97      0.0000  \n",
       "98     -0.2960  \n",
       "99     -0.2960  \n",
       "\n",
       "[100 rows x 2 columns]"
      ]
     },
     "execution_count": 9,
     "metadata": {},
     "output_type": "execute_result"
    }
   ],
   "source": [
    "df"
   ]
  },
  {
   "cell_type": "markdown",
   "metadata": {},
   "source": [
    "###  `[25 pts]` Punto 2: ¿Cuál es el tuit más positivo y más negativo?"
   ]
  },
  {
   "cell_type": "markdown",
   "metadata": {},
   "source": [
    "**El siguiente tweet muestra el mensaje más positivo ya que evidencia la risa o burla del autor.**"
   ]
  },
  {
   "cell_type": "code",
   "execution_count": 11,
   "metadata": {},
   "outputs": [
    {
     "data": {
      "text/html": [
       "<div>\n",
       "<style scoped>\n",
       "    .dataframe tbody tr th:only-of-type {\n",
       "        vertical-align: middle;\n",
       "    }\n",
       "\n",
       "    .dataframe tbody tr th {\n",
       "        vertical-align: top;\n",
       "    }\n",
       "\n",
       "    .dataframe thead th {\n",
       "        text-align: right;\n",
       "    }\n",
       "</style>\n",
       "<table border=\"1\" class=\"dataframe\">\n",
       "  <thead>\n",
       "    <tr style=\"text-align: right;\">\n",
       "      <th></th>\n",
       "      <th>tweets</th>\n",
       "      <th>sent_vader</th>\n",
       "    </tr>\n",
       "  </thead>\n",
       "  <tbody>\n",
       "    <tr>\n",
       "      <th>25</th>\n",
       "      <td>@FuriaRojaTV Usted cree que esta hablando de Boca o River o que jajjajaja🤣🤣🤣🤣🤣🤣</td>\n",
       "      <td>0.9595</td>\n",
       "    </tr>\n",
       "  </tbody>\n",
       "</table>\n",
       "</div>"
      ],
      "text/plain": [
       "                                                                             tweets  \\\n",
       "25  @FuriaRojaTV Usted cree que esta hablando de Boca o River o que jajjajaja🤣🤣🤣🤣🤣🤣   \n",
       "\n",
       "    sent_vader  \n",
       "25      0.9595  "
      ]
     },
     "execution_count": 11,
     "metadata": {},
     "output_type": "execute_result"
    }
   ],
   "source": [
    "df[df.sent_vader == df.sent_vader.max()]"
   ]
  },
  {
   "cell_type": "markdown",
   "metadata": {},
   "source": [
    "**El siguiente tweet muestra el mensaje más negativo ya que evidencia conjunto de palabras como: no gano, no pudo...**"
   ]
  },
  {
   "cell_type": "code",
   "execution_count": 12,
   "metadata": {},
   "outputs": [
    {
     "data": {
      "text/html": [
       "<div>\n",
       "<style scoped>\n",
       "    .dataframe tbody tr th:only-of-type {\n",
       "        vertical-align: middle;\n",
       "    }\n",
       "\n",
       "    .dataframe tbody tr th {\n",
       "        vertical-align: top;\n",
       "    }\n",
       "\n",
       "    .dataframe thead th {\n",
       "        text-align: right;\n",
       "    }\n",
       "</style>\n",
       "<table border=\"1\" class=\"dataframe\">\n",
       "  <thead>\n",
       "    <tr style=\"text-align: right;\">\n",
       "      <th></th>\n",
       "      <th>tweets</th>\n",
       "      <th>sent_vader</th>\n",
       "    </tr>\n",
       "  </thead>\n",
       "  <tbody>\n",
       "    <tr>\n",
       "      <th>72</th>\n",
       "      <td>@CAROLIN15265471 @EduardoLuisFut @SantaFe @JuniorClubSA Regalar?? El Junior no ganó xq no se pudo, estrelló dos balones en el palo, el hecho de q no haya ganado no implica q haya jugado mal, pero si me parece curioso q Santa Fe para este partido si puso los huevos q no puso contra River.</td>\n",
       "      <td>-0.8541</td>\n",
       "    </tr>\n",
       "  </tbody>\n",
       "</table>\n",
       "</div>"
      ],
      "text/plain": [
       "                                                                                                                                                                                                                                                                                              tweets  \\\n",
       "72  @CAROLIN15265471 @EduardoLuisFut @SantaFe @JuniorClubSA Regalar?? El Junior no ganó xq no se pudo, estrelló dos balones en el palo, el hecho de q no haya ganado no implica q haya jugado mal, pero si me parece curioso q Santa Fe para este partido si puso los huevos q no puso contra River.   \n",
       "\n",
       "    sent_vader  \n",
       "72     -0.8541  "
      ]
     },
     "execution_count": 12,
     "metadata": {},
     "output_type": "execute_result"
    }
   ],
   "source": [
    "df[df.sent_vader == df.sent_vader.min()]"
   ]
  }
 ],
 "metadata": {
  "kernelspec": {
   "display_name": "Python 3",
   "language": "python",
   "name": "python3"
  },
  "language_info": {
   "codemirror_mode": {
    "name": "ipython",
    "version": 3
   },
   "file_extension": ".py",
   "mimetype": "text/x-python",
   "name": "python",
   "nbconvert_exporter": "python",
   "pygments_lexer": "ipython3",
   "version": "3.8.5"
  }
 },
 "nbformat": 4,
 "nbformat_minor": 2
}
